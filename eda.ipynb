{
 "cells": [
  {
   "cell_type": "code",
   "execution_count": 14,
   "metadata": {},
   "outputs": [
    {
     "data": {
      "text/plain": [
       "['01_customer_demo.txt',\n",
       " '02_shopping_tran.txt',\n",
       " '03_non_shopping_tran.txt',\n",
       " '04_shopping_category.txt']"
      ]
     },
     "execution_count": 14,
     "metadata": {},
     "output_type": "execute_result"
    }
   ],
   "source": [
    "import os\n",
    "os.listdir('./data')"
   ]
  },
  {
   "cell_type": "markdown",
   "metadata": {},
   "source": [
    "## Import datasets"
   ]
  },
  {
   "cell_type": "code",
   "execution_count": 15,
   "metadata": {},
   "outputs": [
    {
     "name": "stdout",
     "output_type": "stream",
     "text": [
      "(20000, 4) (3641082, 9) (178659, 5) (3788, 5)\n"
     ]
    }
   ],
   "source": [
    "import pandas as pd\n",
    "\n",
    "customer_demo = pd.read_csv('data/01_customer_demo.txt')\n",
    "shop_tran = pd.read_csv('data/02_shopping_tran.txt')\n",
    "nonshop_tran = pd.read_csv('data/03_non_shopping_tran.txt')\n",
    "shopping_cat = pd.read_csv('data/04_shopping_category.txt')\n",
    "\n",
    "print(customer_demo.shape,shop_tran.shape,nonshop_tran.shape,\n",
    "     shopping_cat.shape)\n",
    "\n",
    "customer_demo.columns = customer_demo.columns.str.lower()\n",
    "shop_tran.columns = shop_tran.columns.str.lower()\n",
    "nonshop_tran.columns = nonshop_tran.columns.str.lower()\n",
    "shopping_cat.columns = shopping_cat.columns.str.lower()"
   ]
  },
  {
   "cell_type": "markdown",
   "metadata": {},
   "source": [
    "### shape of datasets\n",
    "\n",
    "dataset | rows | cols\n",
    "---|---|---\n",
    "01 | 20000 | 4\n",
    "02 | 3641082 | 9\n",
    "03 | 178659 | 5\n",
    "04 | 3788 | 5"
   ]
  },
  {
   "cell_type": "markdown",
   "metadata": {},
   "source": [
    "## Customer demo\n",
    "\n",
    "Columns:\n",
    "* id(int):\n",
    "* gender(factor): male = 1, female = 2\n",
    "* age_prd(factor): age group of customers(20PRD ~ 60PRD)\n",
    "* hom_pst_no(str): 3 digits before the customer's postcode"
   ]
  },
  {
   "cell_type": "code",
   "execution_count": 16,
   "metadata": {},
   "outputs": [
    {
     "data": {
      "text/html": [
       "<div>\n",
       "<style scoped>\n",
       "    .dataframe tbody tr th:only-of-type {\n",
       "        vertical-align: middle;\n",
       "    }\n",
       "\n",
       "    .dataframe tbody tr th {\n",
       "        vertical-align: top;\n",
       "    }\n",
       "\n",
       "    .dataframe thead th {\n",
       "        text-align: right;\n",
       "    }\n",
       "</style>\n",
       "<table border=\"1\" class=\"dataframe\">\n",
       "  <thead>\n",
       "    <tr style=\"text-align: right;\">\n",
       "      <th></th>\n",
       "      <th>id</th>\n",
       "      <th>gender</th>\n",
       "      <th>age_prd</th>\n",
       "      <th>hom_pst_no</th>\n",
       "    </tr>\n",
       "  </thead>\n",
       "  <tbody>\n",
       "    <tr>\n",
       "      <th>0</th>\n",
       "      <td>1</td>\n",
       "      <td>1</td>\n",
       "      <td>60PRD</td>\n",
       "      <td>52.0</td>\n",
       "    </tr>\n",
       "    <tr>\n",
       "      <th>1</th>\n",
       "      <td>2</td>\n",
       "      <td>2</td>\n",
       "      <td>60PRD</td>\n",
       "      <td>80.0</td>\n",
       "    </tr>\n",
       "    <tr>\n",
       "      <th>2</th>\n",
       "      <td>3</td>\n",
       "      <td>2</td>\n",
       "      <td>60PRD</td>\n",
       "      <td>620.0</td>\n",
       "    </tr>\n",
       "    <tr>\n",
       "      <th>3</th>\n",
       "      <td>4</td>\n",
       "      <td>1</td>\n",
       "      <td>60PRD</td>\n",
       "      <td>120.0</td>\n",
       "    </tr>\n",
       "    <tr>\n",
       "      <th>4</th>\n",
       "      <td>5</td>\n",
       "      <td>1</td>\n",
       "      <td>60PRD</td>\n",
       "      <td>NaN</td>\n",
       "    </tr>\n",
       "  </tbody>\n",
       "</table>\n",
       "</div>"
      ],
      "text/plain": [
       "   id  gender age_prd  hom_pst_no\n",
       "0   1       1   60PRD        52.0\n",
       "1   2       2   60PRD        80.0\n",
       "2   3       2   60PRD       620.0\n",
       "3   4       1   60PRD       120.0\n",
       "4   5       1   60PRD         NaN"
      ]
     },
     "execution_count": 16,
     "metadata": {},
     "output_type": "execute_result"
    }
   ],
   "source": [
    "customer_demo.head()"
   ]
  },
  {
   "cell_type": "markdown",
   "metadata": {},
   "source": [
    "### Gender"
   ]
  },
  {
   "cell_type": "code",
   "execution_count": 17,
   "metadata": {},
   "outputs": [
    {
     "name": "stderr",
     "output_type": "stream",
     "text": [
      "C:\\Users\\user\\Anaconda3\\envs\\tensorflow\\lib\\site-packages\\pandas\\core\\indexing.py:194: SettingWithCopyWarning: \n",
      "A value is trying to be set on a copy of a slice from a DataFrame\n",
      "\n",
      "See the caveats in the documentation: http://pandas.pydata.org/pandas-docs/stable/indexing.html#indexing-view-versus-copy\n",
      "  self._setitem_with_indexer(indexer, value)\n"
     ]
    },
    {
     "data": {
      "image/png": "[encoded data removed]",
      "text/plain": [
       "<matplotlib.figure.Figure at 0x21c99eb8b70>"
      ]
     },
     "metadata": {},
     "output_type": "display_data"
    }
   ],
   "source": [
    "import seaborn as sns\n",
    "import matplotlib.pyplot as plt\n",
    "\n",
    "aa = customer_demo.copy()\n",
    "aa.gender.loc[aa.gender == 1] = 'male'\n",
    "aa.gender.loc[aa.gender == 2] = 'female'\n",
    "\n",
    "sns.countplot(aa.gender)\n",
    "plt.show()"
   ]
  },
  {
   "cell_type": "markdown",
   "metadata": {},
   "source": [
    "### Age_prd"
   ]
  },
  {
   "cell_type": "code",
   "execution_count": 18,
   "metadata": {},
   "outputs": [
    {
     "data": {
      "text/plain": [
       "array(['60PRD', '50PRD', '40PRD', '30PRD', '20PRD'], dtype=object)"
      ]
     },
     "execution_count": 18,
     "metadata": {},
     "output_type": "execute_result"
    }
   ],
   "source": [
    "customer_demo.age_prd.unique()"
   ]
  },
  {
   "cell_type": "code",
   "execution_count": 19,
   "metadata": {},
   "outputs": [
    {
     "data": {
      "image/png": "[encoded data removed]",
      "text/plain": [
       "<matplotlib.figure.Figure at 0x21c99f0a0f0>"
      ]
     },
     "metadata": {},
     "output_type": "display_data"
    }
   ],
   "source": [
    "sns.countplot(customer_demo.age_prd)\n",
    "plt.show()"
   ]
  },
  {
   "cell_type": "markdown",
   "metadata": {},
   "source": [
    "### Postcode\n",
    "\n",
    "#### 우편번호 구성\n",
    "5자리 우편번호는 서울부터 사행식(북서 -> 남동)으로 제주까지 순차적으로 부여, 앞3자리로 시군자치구를 구별\n",
    "\n",
    "지역 | 앞 두자리| 지역| 앞 두자리\n",
    "---|---|---|---\n",
    "서울|01~09|대구|41~43\n",
    "경기|10~20|울산|44~45\n",
    "인천|21~23|부산|46~49\n",
    "강원|24~26|경남|50~53\n",
    "충북|27~29|전북|54~56\n",
    "세종|30|전남|57~60\n",
    "충남|31~33|광주|61~62\n",
    "대전|34~35|제주|63\n",
    "경북|36~40\n",
    "\n",
    "### 국가기초구역번호\n",
    "구체적인 지역은 [국가기초구역번호](https://ko.wikipedia.org/wiki/%EA%B5%AD%EA%B0%80%EA%B8%B0%EC%B4%88%EA%B5%AC%EC%97%AD%EB%B2%88%ED%98%B8)를 참고.\n"
   ]
  },
  {
   "cell_type": "code",
   "execution_count": 20,
   "metadata": {},
   "outputs": [
    {
     "data": {
      "text/plain": [
       "array([  52.,   80.,  620.,  120.,   nan,   58.,  480.,  470.,   55.,\n",
       "         72.,   61.,   62.,   36.,   56.,   33.,  460.,   47.,  490.,\n",
       "        360.,   60.,   90.,   57.,  130.,  100.,  550.,  510.,  340.,\n",
       "        410.,  140.,  160.,  240.,  400.,  210.,  110.,  370.,   65.,\n",
       "        440.,   75.,   76.,   20.,   24.,  610.,   16.,  590.,  500.,\n",
       "         53.,   79.,   44.,    0.,   66.,   70.,   50.,   87.,   68.,\n",
       "        150.,   63.,   49.,   17.,   18.,  170.,   67.,   37.,  540.,\n",
       "        600.,  420.,  520.,   13.,   30.,   77.,   74.,   73.,   21.,\n",
       "         27.,   25.,  280.,   40.,   34.,  250.,  270.,  350.,   83.,\n",
       "        630.,   12.,   43.,  570.,  380.,   81.,   54.,   51.,  310.,\n",
       "         88.,   69.,   11.,  300.,  200.,  220.,   10.,   26.,  560.,\n",
       "         14.,  320.,   48.,   85.,  230.,   82.,  530.,  430.,  390.,\n",
       "         28.,  580.,   41.,   31.,  260.,   45.,   39.,   22.,   42.,\n",
       "        180.,  330.,   19.,   78.,   46.,   86.,  290.,   35.,  450.])"
      ]
     },
     "execution_count": 20,
     "metadata": {},
     "output_type": "execute_result"
    }
   ],
   "source": [
    "customer_demo.hom_pst_no.unique()"
   ]
  },
  {
   "cell_type": "code",
   "execution_count": 21,
   "metadata": {},
   "outputs": [
    {
     "data": {
      "text/plain": [
       "1365"
      ]
     },
     "execution_count": 21,
     "metadata": {},
     "output_type": "execute_result"
    }
   ],
   "source": [
    "# number of nan\n",
    "sum(customer_demo.hom_pst_no.isnull())"
   ]
  },
  {
   "cell_type": "code",
   "execution_count": 22,
   "metadata": {},
   "outputs": [
    {
     "data": {
      "image/png": "[encoded data removed]",
      "text/plain": [
       "<matplotlib.figure.Figure at 0x21c99e55128>"
      ]
     },
     "metadata": {},
     "output_type": "display_data"
    }
   ],
   "source": [
    "sns.countplot(customer_demo.hom_pst_no)\n",
    "plt.show()"
   ]
  },
  {
   "cell_type": "markdown",
   "metadata": {},
   "source": [
    "## 쇼핑업종 상품구매 정보"
   ]
  },
  {
   "cell_type": "code",
   "execution_count": 23,
   "metadata": {},
   "outputs": [
    {
     "data": {
      "text/html": [
       "<div>\n",
       "<style scoped>\n",
       "    .dataframe tbody tr th:only-of-type {\n",
       "        vertical-align: middle;\n",
       "    }\n",
       "\n",
       "    .dataframe tbody tr th {\n",
       "        vertical-align: top;\n",
       "    }\n",
       "\n",
       "    .dataframe thead th {\n",
       "        text-align: right;\n",
       "    }\n",
       "</style>\n",
       "<table border=\"1\" class=\"dataframe\">\n",
       "  <thead>\n",
       "    <tr style=\"text-align: right;\">\n",
       "      <th></th>\n",
       "      <th>id</th>\n",
       "      <th>rct_no</th>\n",
       "      <th>biz_unit</th>\n",
       "      <th>pd_s_c</th>\n",
       "      <th>br_c</th>\n",
       "      <th>de_dt</th>\n",
       "      <th>de_hr</th>\n",
       "      <th>buy_am</th>\n",
       "      <th>buy_ct</th>\n",
       "    </tr>\n",
       "  </thead>\n",
       "  <tbody>\n",
       "    <tr>\n",
       "      <th>0</th>\n",
       "      <td>4008</td>\n",
       "      <td>2108</td>\n",
       "      <td>A01</td>\n",
       "      <td>215</td>\n",
       "      <td>2</td>\n",
       "      <td>20150216</td>\n",
       "      <td>13</td>\n",
       "      <td>59600</td>\n",
       "      <td>2</td>\n",
       "    </tr>\n",
       "    <tr>\n",
       "      <th>1</th>\n",
       "      <td>6379</td>\n",
       "      <td>2109</td>\n",
       "      <td>A01</td>\n",
       "      <td>75</td>\n",
       "      <td>29</td>\n",
       "      <td>20150213</td>\n",
       "      <td>11</td>\n",
       "      <td>35000</td>\n",
       "      <td>1</td>\n",
       "    </tr>\n",
       "    <tr>\n",
       "      <th>2</th>\n",
       "      <td>6379</td>\n",
       "      <td>2109</td>\n",
       "      <td>A01</td>\n",
       "      <td>149</td>\n",
       "      <td>4</td>\n",
       "      <td>20150115</td>\n",
       "      <td>10</td>\n",
       "      <td>85000</td>\n",
       "      <td>1</td>\n",
       "    </tr>\n",
       "    <tr>\n",
       "      <th>3</th>\n",
       "      <td>8002</td>\n",
       "      <td>2110</td>\n",
       "      <td>A01</td>\n",
       "      <td>138</td>\n",
       "      <td>10</td>\n",
       "      <td>20151220</td>\n",
       "      <td>10</td>\n",
       "      <td>25000</td>\n",
       "      <td>1</td>\n",
       "    </tr>\n",
       "    <tr>\n",
       "      <th>4</th>\n",
       "      <td>8002</td>\n",
       "      <td>2110</td>\n",
       "      <td>A01</td>\n",
       "      <td>138</td>\n",
       "      <td>10</td>\n",
       "      <td>20151220</td>\n",
       "      <td>10</td>\n",
       "      <td>21000</td>\n",
       "      <td>1</td>\n",
       "    </tr>\n",
       "  </tbody>\n",
       "</table>\n",
       "</div>"
      ],
      "text/plain": [
       "     id  rct_no biz_unit  pd_s_c  br_c     de_dt  de_hr  buy_am  buy_ct\n",
       "0  4008    2108      A01     215     2  20150216     13   59600       2\n",
       "1  6379    2109      A01      75    29  20150213     11   35000       1\n",
       "2  6379    2109      A01     149     4  20150115     10   85000       1\n",
       "3  8002    2110      A01     138    10  20151220     10   25000       1\n",
       "4  8002    2110      A01     138    10  20151220     10   21000       1"
      ]
     },
     "execution_count": 23,
     "metadata": {},
     "output_type": "execute_result"
    }
   ],
   "source": [
    "shop_tran.head()"
   ]
  },
  {
   "cell_type": "markdown",
   "metadata": {},
   "source": [
    "Columns:\n",
    "* id(int): customer's id\n",
    "* rct_no(int): \n",
    "* biz_unit(factor): 5 categories of the shopping\n",
    "    * A01: Department store\n",
    "    * A02: Large supermarket\n",
    "    * A03: Supermarket\n",
    "    * A04: Convenience store\n",
    "    * A05: Drugstore\n",
    "* pd_s_c(int):\n",
    "* br_c(int):\n",
    "* de_dt(date): YYYY/MM/DD\n",
    "* de_hr(int)\n",
    "* buy_am(int)\n",
    "* buy_ct(int)"
   ]
  },
  {
   "cell_type": "markdown",
   "metadata": {},
   "source": [
    "### Buisness units"
   ]
  },
  {
   "cell_type": "code",
   "execution_count": 24,
   "metadata": {},
   "outputs": [
    {
     "data": {
      "image/png": "[encoded data removed]",
      "text/plain": [
       "<matplotlib.figure.Figure at 0x21c982b0c50>"
      ]
     },
     "metadata": {},
     "output_type": "display_data"
    }
   ],
   "source": [
    "sns.countplot(shop_tran.biz_unit)\n",
    "plt.show()"
   ]
  },
  {
   "cell_type": "markdown",
   "metadata": {},
   "source": [
    "### de_dt & de_hr"
   ]
  },
  {
   "cell_type": "code",
   "execution_count": 51,
   "metadata": {},
   "outputs": [],
   "source": [
    "dt = shop_tran[['id','de_dt']].copy()\n",
    "dt['de_dt'] = dt.de_dt.astype(str)"
   ]
  },
  {
   "cell_type": "code",
   "execution_count": 52,
   "metadata": {},
   "outputs": [
    {
     "data": {
      "image/png": "[encoded data removed]",
      "text/plain": [
       "<matplotlib.figure.Figure at 0x21c80063198>"
      ]
     },
     "metadata": {},
     "output_type": "display_data"
    }
   ],
   "source": [
    "dt['de_dt'] = pd.to_datetime(dt.de_dt)\n",
    "dt = dt.set_index('de_dt')\n",
    "dt['m'] = dt.index.month\n",
    "dt.groupby('m').count().plot(kind='line')\n",
    "plt.legend(['counts'])\n",
    "plt.show()"
   ]
  },
  {
   "cell_type": "code",
   "execution_count": 58,
   "metadata": {},
   "outputs": [
    {
     "data": {
      "image/png": "[encoded data removed]",
      "text/plain": [
       "<matplotlib.figure.Figure at 0x21c8008c550>"
      ]
     },
     "metadata": {},
     "output_type": "display_data"
    }
   ],
   "source": [
    "hr = shop_tran['de_hr'].copy()\n",
    "sns.countplot(hr)\n",
    "plt.show()"
   ]
  },
  {
   "cell_type": "markdown",
   "metadata": {},
   "source": [
    "### buy_am & buy_ct"
   ]
  },
  {
   "cell_type": "code",
   "execution_count": 59,
   "metadata": {},
   "outputs": [
    {
     "data": {
      "text/html": [
       "<div>\n",
       "<style scoped>\n",
       "    .dataframe tbody tr th:only-of-type {\n",
       "        vertical-align: middle;\n",
       "    }\n",
       "\n",
       "    .dataframe tbody tr th {\n",
       "        vertical-align: top;\n",
       "    }\n",
       "\n",
       "    .dataframe thead th {\n",
       "        text-align: right;\n",
       "    }\n",
       "</style>\n",
       "<table border=\"1\" class=\"dataframe\">\n",
       "  <thead>\n",
       "    <tr style=\"text-align: right;\">\n",
       "      <th></th>\n",
       "      <th>buy_am</th>\n",
       "      <th>buy_ct</th>\n",
       "    </tr>\n",
       "  </thead>\n",
       "  <tbody>\n",
       "    <tr>\n",
       "      <th>count</th>\n",
       "      <td>3.641082e+06</td>\n",
       "      <td>3.641082e+06</td>\n",
       "    </tr>\n",
       "    <tr>\n",
       "      <th>mean</th>\n",
       "      <td>2.481843e+04</td>\n",
       "      <td>1.249397e+01</td>\n",
       "    </tr>\n",
       "    <tr>\n",
       "      <th>std</th>\n",
       "      <td>2.531372e+05</td>\n",
       "      <td>1.043572e+02</td>\n",
       "    </tr>\n",
       "    <tr>\n",
       "      <th>min</th>\n",
       "      <td>0.000000e+00</td>\n",
       "      <td>1.000000e+00</td>\n",
       "    </tr>\n",
       "    <tr>\n",
       "      <th>25%</th>\n",
       "      <td>2.000000e+03</td>\n",
       "      <td>1.000000e+00</td>\n",
       "    </tr>\n",
       "    <tr>\n",
       "      <th>50%</th>\n",
       "      <td>4.480000e+03</td>\n",
       "      <td>1.000000e+00</td>\n",
       "    </tr>\n",
       "    <tr>\n",
       "      <th>75%</th>\n",
       "      <td>1.000000e+04</td>\n",
       "      <td>1.000000e+00</td>\n",
       "    </tr>\n",
       "    <tr>\n",
       "      <th>max</th>\n",
       "      <td>1.660300e+08</td>\n",
       "      <td>1.005000e+04</td>\n",
       "    </tr>\n",
       "  </tbody>\n",
       "</table>\n",
       "</div>"
      ],
      "text/plain": [
       "             buy_am        buy_ct\n",
       "count  3.641082e+06  3.641082e+06\n",
       "mean   2.481843e+04  1.249397e+01\n",
       "std    2.531372e+05  1.043572e+02\n",
       "min    0.000000e+00  1.000000e+00\n",
       "25%    2.000000e+03  1.000000e+00\n",
       "50%    4.480000e+03  1.000000e+00\n",
       "75%    1.000000e+04  1.000000e+00\n",
       "max    1.660300e+08  1.005000e+04"
      ]
     },
     "execution_count": 59,
     "metadata": {},
     "output_type": "execute_result"
    }
   ],
   "source": [
    "am_ct = shop_tran[['buy_am','buy_ct']].copy()\n",
    "am_ct.describe()"
   ]
  },
  {
   "cell_type": "code",
   "execution_count": null,
   "metadata": {},
   "outputs": [],
   "source": [
    "sns.countplot(am_ct.buy_am)\n",
    "plt.show()"
   ]
  }
 ],
 "metadata": {
  "kernelspec": {
   "display_name": "Python 3",
   "language": "python",
   "name": "python3"
  },
  "language_info": {
   "codemirror_mode": {
    "name": "ipython",
    "version": 3
   },
   "file_extension": ".py",
   "mimetype": "text/x-python",
   "name": "python",
   "nbconvert_exporter": "python",
   "pygments_lexer": "ipython3",
   "version": "3.5.4"
  }
 },
 "nbformat": 4,
 "nbformat_minor": 2
}
